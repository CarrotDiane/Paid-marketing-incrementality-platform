{
 "cells": [
  {
   "cell_type": "code",
   "execution_count": null,
   "id": "e77876e5",
   "metadata": {},
   "outputs": [],
   "source": [
    "#### import packages and housekeep ####"
   ]
  },
  {
   "cell_type": "code",
   "execution_count": null,
   "id": "8c71c088",
   "metadata": {},
   "outputs": [],
   "source": [
    "import pandas as pd\n",
    "import numpy as np\n",
    "import datetime\n",
    "import statsmodels.api as sm\n",
    "import os\n",
    "import sys\n",
    "import logging\n",
    "from Matcher import Matcher\n",
    "import sklearn\n",
    "from sklearn import metrics\n",
    "from sklearn.model_selection import train_test_split\n",
    "from sklearn.metrics import mean_squared_error\n",
    "import xgboost as xgb\n",
    "from sklearn.model_selection import GridSearchCV, KFold\n",
    "import matplotlib.pyplot as plt\n",
    "import seaborn as sns\n",
    "import instaquery as iq\n",
    "from piper.db.snowflake import SnowflakeDb\n",
    "from datetime import date\n",
    "from datetime import timedelta\n",
    "import jinja2"
   ]
  },
  {
   "cell_type": "code",
   "execution_count": null,
   "id": "9fa0b7e8",
   "metadata": {},
   "outputs": [],
   "source": [
    "#### generate attributes ####"
   ]
  },
  {
   "cell_type": "code",
   "execution_count": null,
   "id": "99c1a5fb",
   "metadata": {},
   "outputs": [],
   "source": [
    "def date_ref_table_gen (start_date, cohort_duration_days, num_cohorts, date_ref_df = pd.DataFrame(), date_ref_temp_df = pd.DataFrame()): #start_date_inclusive \n",
    "    for n in range(num_cohorts):\n",
    "#         print(n)\n",
    "        \n",
    "        start_date_temp = (date.fromisoformat(start_date) + timedelta(days=(n*cohort_duration_days))).isoformat()\n",
    "        visit_start_temp = (date.fromisoformat(start_date_temp) - timedelta(days=(cohort_duration_days))).isoformat()\n",
    "        end_date_temp = (date.fromisoformat(start_date_temp) + timedelta(days=(cohort_duration_days-1))).isoformat()\n",
    "\n",
    "#         print(start_date_temp)\n",
    "        date_ref_temp_df.loc[n, 'visit_start'] = visit_start_temp\n",
    "        date_ref_temp_df.loc[n, 'start_date'] = start_date_temp \n",
    "        date_ref_temp_df.loc[n,'end_date'] = end_date_temp\n",
    "#         date_ref_temp_df = pd.DataFrame({\"visit_start\":visit_start_temp, \"start_date\":start_date_temp,\"end_date\":end_date_temp})\n",
    "              \n",
    "#         print(date_ref_temp_df)\n",
    "        \n",
    "        if date_ref_df.empty == True:\n",
    "            date_ref_df = date_ref_temp_df \n",
    "        else:\n",
    "            date_ref_df = pd.concat([date_ref_df, date_ref_temp_df]) \n",
    "            \n",
    "        date_ref_temp_df = pd.DataFrame() #date_ref_temp_df.iloc[0:0]\n",
    "        \n",
    "    return date_ref_df\n",
    "        \n",
    "\n",
    "#         print(start_date_temp)\n",
    "#         print(end_date_temp)\n",
    "    "
   ]
  },
  {
   "cell_type": "code",
   "execution_count": null,
   "id": "e27fd57c",
   "metadata": {
    "scrolled": true
   },
   "outputs": [],
   "source": [
    "date_ref_df = date_ref_table_gen ('2022-06-26', 28, 14) #2021-10-13"
   ]
  },
  {
   "cell_type": "code",
   "execution_count": null,
   "id": "27d5809f",
   "metadata": {},
   "outputs": [],
   "source": [
    "date_ref_df"
   ]
  },
  {
   "cell_type": "code",
   "execution_count": null,
   "id": "b62f34c2",
   "metadata": {
    "scrolled": true
   },
   "outputs": [],
   "source": [
    "iq.upload(date_ref_df, 'sandbox_db.dianedou.ott_incrementality_vprod_date_ref_df')"
   ]
  },
  {
   "cell_type": "code",
   "execution_count": null,
   "id": "98cf951c",
   "metadata": {},
   "outputs": [],
   "source": [
    "params = {}\n",
    "# params['user_base_table'] = user_base_table\n",
    "# params['reporting_date'] = str(reporting_date)"
   ]
  },
  {
   "cell_type": "code",
   "execution_count": null,
   "id": "fc83b4fd",
   "metadata": {},
   "outputs": [],
   "source": [
    "def df_user_base_query(start_date_temp, end_date_temp, visit_start_temp):\n",
    "    base_table_query_temp = f\"\"\"set start_date = '{start_date_temp}'; set end_date = '{end_date_temp}'; set visit_start = '{visit_start_temp}'; \"\"\"\n",
    "    SnowflakeDb.singleton().execute_sql(base_table_query_temp)\n",
    "\n",
    "    with open('OTT_feature_gen.sql', 'r') as f:\n",
    "        sql = f.read()\n",
    "        query_feature = jinja2.Template(sql).render(params=params)\n",
    "        SnowflakeDb.singleton().execute_sql(query_feature)\n",
    "    return "
   ]
  },
  {
   "cell_type": "code",
   "execution_count": null,
   "id": "769ad8a9",
   "metadata": {
    "scrolled": true
   },
   "outputs": [],
   "source": [
    "for row in range(0, date_ref_df.shape[0]): \n",
    "    print(row)\n",
    "    cohort_temp = date_ref_df.iloc[row, ]\n",
    "    print(cohort_temp)\n",
    "    \n",
    "    start_date_temp = cohort_temp['start_date']\n",
    "    end_date_temp  = cohort_temp['end_date']\n",
    "    visit_start_temp = cohort_temp['visit_start']\n",
    "    \n",
    "    df_user_base_query(start_date_temp, end_date_temp, visit_start_temp)\n",
    "    try:\n",
    "        previous_df = SnowflakeDb.singleton().to_dataframe(\"select * from sandbox_db.dianedou.OTT_matching_attributes_vprod\")\n",
    "        previous_df.columns = previous_df.columns.str.lower()\n",
    "        previous_df.cohort = pd.to_datetime(previous_df.cohort)\n",
    "        if pd.Timestamp(start_date_temp) not in list(set(previous_df.cohort.to_list())):\n",
    "            SnowflakeDb.singleton().execute_sql('CREATE OR REPLACE table sandbox_db.dianedou.OTT_matching_attributes_vprod as (select * from sandbox_db.dianedou.OTT_matching_attributes_vprod union all select * from sandbox_db.dianedou.OTT_matching_attributes_vprod_temp)')\n",
    "    except:\n",
    "        SnowflakeDb.singleton().execute_sql('CREATE OR REPLACE table sandbox_db.dianedou.OTT_matching_attributes_vprod as (select * from sandbox_db.dianedou.OTT_matching_attributes_vprod_temp)')\n"
   ]
  },
  {
   "cell_type": "code",
   "execution_count": null,
   "id": "000e5212",
   "metadata": {},
   "outputs": [],
   "source": [
    "#### generate outcome ####"
   ]
  },
  {
   "cell_type": "code",
   "execution_count": null,
   "id": "bb43d290",
   "metadata": {},
   "outputs": [],
   "source": [
    "def df_outcome_query(cohort_temp):\n",
    "    base_table_query_temp = f\"\"\"set cohort_temp = '{cohort_temp}'; set user_base_table = 'sandbox_db.dianedou.OTT_matching_attributes_vprod';\"\"\"\n",
    "    \n",
    "    SnowflakeDb.singleton().execute_sql(base_table_query_temp)\n",
    "\n",
    "    with open('OTT_outcome_gen.sql', 'r') as f:\n",
    "        sql = f.read()\n",
    "        query_feature = jinja2.Template(sql).render(params=params)\n",
    "        SnowflakeDb.singleton().execute_sql(query_feature)\n",
    "    return "
   ]
  },
  {
   "cell_type": "code",
   "execution_count": null,
   "id": "f72539d8",
   "metadata": {},
   "outputs": [],
   "source": [
    "for row in range(1, date_ref_df.shape[0]): \n",
    "\n",
    "    cohort_temp = date_ref_df.loc[row, 'start_date']\n",
    "    print(cohort_temp)\n",
    "\n",
    "    df_outcome_query(cohort_temp)\n",
    "    \n",
    "    try:\n",
    "        previous_df = SnowflakeDb.singleton().to_dataframe(\"select * from sandbox_db.dianedou.OTT_reporting_metrics_28d_vprod_v2\")\n",
    "        previous_df.columns = previous_df.columns.str.lower()\n",
    "        previous_df.cohort = pd.to_datetime(previous_df.cohort)\n",
    "        if pd.Timestamp(cohort_temp) not in list(set(previous_df.cohort.to_list())):\n",
    "            SnowflakeDb.singleton().execute_sql('CREATE OR REPLACE table sandbox_db.dianedou.OTT_reporting_metrics_28d_vprod_v2 as (select * from sandbox_db.dianedou.OTT_reporting_metrics_28d_vprod_v2 union all select * from sandbox_db.dianedou.OTT_reporting_metrics_28d_vprod_temp)')\n",
    "            SnowflakeDb.singleton().execute_sql('CREATE OR REPLACE table sandbox_db.dianedou.OTT_reporting_metrics_orders_28d_vprod_v2 as (select * from sandbox_db.dianedou.OTT_reporting_metrics_orders_28d_vprod_v2 union all select * from sandbox_db.dianedou.OTT_reporting_metrics_orders_28d_vprod_temp)')\n",
    "    except:\n",
    "        SnowflakeDb.singleton().execute_sql('CREATE OR REPLACE table sandbox_db.dianedou.OTT_reporting_metrics_28d_vprod_v2 as (select * from sandbox_db.dianedou.OTT_reporting_metrics_28d_vprod_temp)')\n",
    "        SnowflakeDb.singleton().execute_sql('CREATE OR REPLACE table sandbox_db.dianedou.OTT_reporting_metrics_orders_28d_vprod_v2 as (select * from sandbox_db.dianedou.OTT_reporting_metrics_orders_28d_vprod_temp)')\n"
   ]
  },
  {
   "cell_type": "markdown",
   "id": "387cc207",
   "metadata": {},
   "source": [
    "---------------------"
   ]
  },
  {
   "cell_type": "code",
   "execution_count": null,
   "id": "36435967",
   "metadata": {},
   "outputs": [],
   "source": [
    "#### matching ####"
   ]
  },
  {
   "cell_type": "code",
   "execution_count": null,
   "id": "fcdbefb2",
   "metadata": {
    "scrolled": true
   },
   "outputs": [],
   "source": [
    "df = iq.query(\"SELECT * FROM sandbox_db.dianedou.ott_matching_attributes_vprod\")"
   ]
  },
  {
   "cell_type": "code",
   "execution_count": null,
   "id": "e9e58b0a",
   "metadata": {},
   "outputs": [],
   "source": [
    "feature = ['total_spend_fav_store_last_five_deliveries'\n",
    "            , 'tot_visit_time'\n",
    "            , 'n_platforms_visited_l28'\n",
    "            , 'days_signup_to_activation'\n",
    "            , 'min_days_between_reorder_l28'\n",
    "            , 'avg_initial_charge_amt_usd_fav_store_last_five_deliveries'\n",
    "            , 'total_items_fav_store_last_five_deliveries'\n",
    "            , 'days_since_last_order_fav_store_last_five_deliveries'\n",
    "            , 'min_days_between_reorder'\n",
    "            , 'days_since_last_completed_order'\n",
    "            , 'avg_change_tip_pct'\n",
    "            , 'past_trial'\n",
    "            , 'tip'\n",
    "            , 'is_wao'\n",
    "            , 'gtv_l28'\n",
    "            , 'gtv_l91'\n",
    "            , 'gtv_lifetime'\n",
    "            , 'deliveries_l28'\n",
    "            , 'deliveries_lifetime'\n",
    "            , 'is_hao'\n",
    "            , 'visits_l28'\n",
    "            , 'visits_l91'\n",
    "            , 'visits_lifetime'\n",
    "            , 'signup_days'\n",
    "            , 'zip_median_income'\n",
    "          ]"
   ]
  },
  {
   "cell_type": "code",
   "execution_count": null,
   "id": "a66a6a74",
   "metadata": {},
   "outputs": [],
   "source": [
    "df_intervention = df.copy()\n",
    "obj_df = df_intervention.select_dtypes(include=['object']).copy()"
   ]
  },
  {
   "cell_type": "code",
   "execution_count": null,
   "id": "9a4a112f",
   "metadata": {},
   "outputs": [],
   "source": [
    "def remove_elements_from_list (list_keep, list_remove):\n",
    "    for i in list_remove:\n",
    "        try:\n",
    "            list_keep.remove(i)\n",
    "        except:\n",
    "            print(i + ' does not exist')\n",
    "    return list_keep"
   ]
  },
  {
   "cell_type": "code",
   "execution_count": null,
   "id": "f44d2e5c",
   "metadata": {},
   "outputs": [],
   "source": [
    "def rename_cols(df):\n",
    "    df.columns = np.char.replace(np.char.replace(np.char.lower(df.columns.values.astype('str')), ':overall::numeric(10,2)',''), 'fuga.','')\n"
   ]
  },
  {
   "cell_type": "code",
   "execution_count": null,
   "id": "e11116ef",
   "metadata": {},
   "outputs": [],
   "source": [
    "dummy_var = remove_elements_from_list (obj_df.columns.to_list() , [ 'wk_ref', 'created_at_pt', 'cohort', 'measured_date','activation_warehouse_name'])"
   ]
  },
  {
   "cell_type": "code",
   "execution_count": null,
   "id": "052244d1",
   "metadata": {},
   "outputs": [],
   "source": [
    "X_coded = pd.get_dummies(df_intervention, columns = dummy_var, drop_first = True)\n",
    "# df_intervention_lite = pd.concat([df_intervention[reporting_metric + variant], X_coded], axis = 1)"
   ]
  },
  {
   "cell_type": "code",
   "execution_count": null,
   "id": "00faf793",
   "metadata": {},
   "outputs": [],
   "source": [
    "rename_cols(X_coded)"
   ]
  },
  {
   "cell_type": "code",
   "execution_count": null,
   "id": "4feba360",
   "metadata": {
    "scrolled": true
   },
   "outputs": [],
   "source": [
    "X_coded = X_coded[feature]"
   ]
  },
  {
   "cell_type": "code",
   "execution_count": null,
   "id": "e2ce82ba",
   "metadata": {
    "scrolled": true
   },
   "outputs": [],
   "source": [
    "df_intervention_matching = pd.concat([df_intervention[['user_id', 'variant', 'cohort', 'wk_ref']], X_coded], axis = 1)"
   ]
  },
  {
   "cell_type": "code",
   "execution_count": null,
   "id": "4563fa72",
   "metadata": {},
   "outputs": [],
   "source": [
    "df_intervention_matching.variant"
   ]
  },
  {
   "cell_type": "code",
   "execution_count": null,
   "id": "8736d6de",
   "metadata": {},
   "outputs": [],
   "source": [
    "attributes_to_exclude = remove_elements_from_list (df_intervention_matching.columns.tolist() , feature)"
   ]
  },
  {
   "cell_type": "code",
   "execution_count": null,
   "id": "28d3293e",
   "metadata": {},
   "outputs": [],
   "source": [
    "def matching_cohort (data, variant_var = 'variant'):\n",
    "\n",
    "    control = data[data[variant_var] == 0].reset_index(drop=True)\n",
    "    test = data[data[variant_var] == 1].reset_index(drop=True)\n",
    "\n",
    "    m = Matcher(test, control, yvar=variant_var, exclude=attributes_to_exclude)\n",
    "    np.random.seed(20170925)\n",
    "    m.fit_scores(balance=True, nmodels=10)\n",
    "    m.predict_scores()\n",
    "    m.match(method=\"random\", nmatches=1, threshold=0.0005)\n",
    "    matched_df = m.matched_data.reset_index(drop=True)\n",
    "\n",
    "    return (matched_df)\n"
   ]
  },
  {
   "cell_type": "code",
   "execution_count": null,
   "id": "27e2adcb",
   "metadata": {},
   "outputs": [],
   "source": [
    "cohort_list = list(set(df['cohort'].tolist()))"
   ]
  },
  {
   "cell_type": "code",
   "execution_count": null,
   "id": "fca8daef",
   "metadata": {},
   "outputs": [],
   "source": [
    "sorted(cohort_list)"
   ]
  },
  {
   "cell_type": "code",
   "execution_count": null,
   "id": "3a456e15",
   "metadata": {
    "scrolled": true
   },
   "outputs": [],
   "source": [
    "for i in range(0, len(cohort_list)): #\n",
    "    cohort_temp = sorted(cohort_list)[i]\n",
    "    print(cohort_temp)\n",
    "    df_intervention_matching_cohort = df_intervention_matching[df_intervention_matching['cohort'] == cohort_temp]\n",
    "    df_matched = matching_cohort(df_intervention_matching_cohort)\n",
    "    iq.upload(df_matched, 'sandbox_db.dianedou.OTT_matching_attributes_vprod_matched_temp')\n",
    "    \n",
    "    SnowflakeDb.singleton().execute_sql('CREATE OR REPLACE table sandbox_db.dianedou.OTT_matching_attributes_vprod_matched_sup as (select * from sandbox_db.dianedou.OTT_matching_attributes_vprod_matched_sup union all select * from sandbox_db.dianedou.OTT_matching_attributes_vprod_matched_temp)')\n",
    "         "
   ]
  }
 ],
 "metadata": {
  "kernelspec": {
   "display_name": "Python 3 (ipykernel)",
   "language": "python",
   "name": "python3"
  },
  "language_info": {
   "codemirror_mode": {
    "name": "ipython",
    "version": 3
   },
   "file_extension": ".py",
   "mimetype": "text/x-python",
   "name": "python",
   "nbconvert_exporter": "python",
   "pygments_lexer": "ipython3",
   "version": "3.7.13"
  }
 },
 "nbformat": 4,
 "nbformat_minor": 5
}
